{
 "cells": [
  {
   "cell_type": "code",
   "execution_count": 11,
   "id": "4df034b9-199b-43cf-8b8d-64ec1511f90c",
   "metadata": {},
   "outputs": [
    {
     "name": "stdout",
     "output_type": "stream",
     "text": [
      "New CSV file created successfully at llama2_dataset.csv\n"
     ]
    }
   ],
   "source": [
    "import csv\n",
    "\n",
    "# Read data from the existing CSV file\n",
    "csv_file_path = 'dataset.csv'\n",
    "csv_columns = ['query', 'query_optimized']\n",
    "\n",
    "csv_rows = []\n",
    "with open(csv_file_path, 'r') as csv_file:\n",
    "    csv_reader = csv.DictReader(csv_file)\n",
    "    for row in csv_reader:\n",
    "        user_query = row['query']\n",
    "        assistant_query = row['query_optimized']\n",
    "        formatted_text = f\"<s>[INST] {user_query} [/INST]{assistant_query}</s>\"\n",
    "\n",
    "        csv_rows.append({'text': formatted_text})\n",
    "\n",
    "# Write data to the new CSV file\n",
    "llama2_csv_file_path = 'llama2_dataset.csv'\n",
    "llama2_csv_columns = ['text']\n",
    "\n",
    "with open(llama2_csv_file_path, 'w', newline='') as llama2_csv_file:\n",
    "    csv_writer = csv.DictWriter(llama2_csv_file, fieldnames=llama2_csv_columns)\n",
    "    csv_writer.writeheader()\n",
    "\n",
    "    for row in csv_rows:\n",
    "        csv_writer.writerow(row)\n",
    "\n",
    "print(f'New CSV file created successfully at {llama2_csv_file_path}')"
   ]
  },
  {
   "cell_type": "code",
   "execution_count": 12,
   "id": "faadf7eb-9f06-4df2-b670-455f8b5713af",
   "metadata": {},
   "outputs": [],
   "source": [
    "import pandas as pd\n",
    "from datasets import Dataset"
   ]
  },
  {
   "cell_type": "code",
   "execution_count": 13,
   "id": "29dc6781-1da1-4cba-a931-33c5caa6ace6",
   "metadata": {},
   "outputs": [
    {
     "data": {
      "text/plain": [
       "Dataset({\n",
       "    features: ['text'],\n",
       "    num_rows: 3\n",
       "})"
      ]
     },
     "execution_count": 13,
     "metadata": {},
     "output_type": "execute_result"
    }
   ],
   "source": [
    "query_dataset='llama2_dataset.csv'\n",
    "df = pd.read_csv(query_dataset)\n",
    "df = Dataset.from_pandas(df)\n",
    "dataset = df.train_test_split(test_size=0.2, shuffle=True, seed=42)['train']\n",
    "dataset"
   ]
  },
  {
   "cell_type": "code",
   "execution_count": null,
   "id": "8a9e2fe5-b80b-4bf5-ac47-b13eee447de2",
   "metadata": {},
   "outputs": [],
   "source": []
  },
  {
   "cell_type": "code",
   "execution_count": null,
   "id": "74279c8e-adde-4eb2-a3ef-123a08423c02",
   "metadata": {},
   "outputs": [],
   "source": []
  }
 ],
 "metadata": {
  "kernelspec": {
   "display_name": "Python 3 (ipykernel)",
   "language": "python",
   "name": "python3"
  },
  "language_info": {
   "codemirror_mode": {
    "name": "ipython",
    "version": 3
   },
   "file_extension": ".py",
   "mimetype": "text/x-python",
   "name": "python",
   "nbconvert_exporter": "python",
   "pygments_lexer": "ipython3",
   "version": "3.12.1"
  }
 },
 "nbformat": 4,
 "nbformat_minor": 5
}
