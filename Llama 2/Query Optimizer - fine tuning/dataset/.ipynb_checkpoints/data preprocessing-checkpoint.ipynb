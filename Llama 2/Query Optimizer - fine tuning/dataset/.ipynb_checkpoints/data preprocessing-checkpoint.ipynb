{
 "cells": [
  {
   "cell_type": "code",
   "execution_count": 6,
   "id": "4df034b9-199b-43cf-8b8d-64ec1511f90c",
   "metadata": {},
   "outputs": [
    {
     "name": "stdout",
     "output_type": "stream",
     "text": [
      "New CSV file created successfully at llama2_dataset.csv\n"
     ]
    }
   ],
   "source": [
    "import csv\n",
    "\n",
    "# Read data from the existing CSV file\n",
    "csv_file_path = 'output.csv'\n",
    "csv_columns = ['query', 'query_optimized']\n",
    "\n",
    "csv_rows = []\n",
    "with open(csv_file_path, 'r') as csv_file:\n",
    "    csv_reader = csv.DictReader(csv_file)\n",
    "    for row in csv_reader:\n",
    "        user_query = row['query']\n",
    "        assistant_query = row['query_optimized']\n",
    "        formatted_text = f\"<s>[INST] {user_query} [/INST]{assistant_query}</s>\"\n",
    "\n",
    "        csv_rows.append({'text': formatted_text})\n",
    "\n",
    "# Write data to the new CSV file\n",
    "llama2_csv_file_path = 'llama2_dataset.csv'\n",
    "llama2_csv_columns = ['text']\n",
    "\n",
    "with open(llama2_csv_file_path, 'w', newline='') as llama2_csv_file:\n",
    "    csv_writer = csv.DictWriter(llama2_csv_file, fieldnames=llama2_csv_columns)\n",
    "    csv_writer.writeheader()\n",
    "\n",
    "    for row in csv_rows:\n",
    "        csv_writer.writerow(row)\n",
    "\n",
    "print(f'New CSV file created successfully at {llama2_csv_file_path}')"
   ]
  },
  {
   "cell_type": "code",
   "execution_count": 8,
   "id": "faadf7eb-9f06-4df2-b670-455f8b5713af",
   "metadata": {},
   "outputs": [
    {
     "ename": "ModuleNotFoundError",
     "evalue": "No module named 'pandas'",
     "output_type": "error",
     "traceback": [
      "\u001b[1;31m---------------------------------------------------------------------------\u001b[0m",
      "\u001b[1;31mModuleNotFoundError\u001b[0m                       Traceback (most recent call last)",
      "Cell \u001b[1;32mIn[8], line 1\u001b[0m\n\u001b[1;32m----> 1\u001b[0m \u001b[38;5;28;01mimport\u001b[39;00m \u001b[38;5;21;01mpandas\u001b[39;00m \u001b[38;5;28;01mas\u001b[39;00m \u001b[38;5;21;01mpd\u001b[39;00m\n",
      "\u001b[1;31mModuleNotFoundError\u001b[0m: No module named 'pandas'"
     ]
    }
   ],
   "source": [
    "import pandas as pd"
   ]
  },
  {
   "cell_type": "code",
   "execution_count": 9,
   "id": "aaed89c0-2780-4123-a33f-cb97d331cb4a",
   "metadata": {},
   "outputs": [
    {
     "ename": "ModuleNotFoundError",
     "evalue": "No module named 'datasets'",
     "output_type": "error",
     "traceback": [
      "\u001b[1;31m---------------------------------------------------------------------------\u001b[0m",
      "\u001b[1;31mModuleNotFoundError\u001b[0m                       Traceback (most recent call last)",
      "Cell \u001b[1;32mIn[9], line 1\u001b[0m\n\u001b[1;32m----> 1\u001b[0m \u001b[38;5;28;01mfrom\u001b[39;00m \u001b[38;5;21;01mdatasets\u001b[39;00m \u001b[38;5;28;01mimport\u001b[39;00m Dataset\n",
      "\u001b[1;31mModuleNotFoundError\u001b[0m: No module named 'datasets'"
     ]
    }
   ],
   "source": [
    "from datasets import Dataset"
   ]
  },
  {
   "cell_type": "code",
   "execution_count": null,
   "id": "8a9e2fe5-b80b-4bf5-ac47-b13eee447de2",
   "metadata": {},
   "outputs": [],
   "source": [
    "pip install datasets"
   ]
  },
  {
   "cell_type": "code",
   "execution_count": null,
   "id": "74279c8e-adde-4eb2-a3ef-123a08423c02",
   "metadata": {},
   "outputs": [],
   "source": []
  }
 ],
 "metadata": {
  "kernelspec": {
   "display_name": "Python 3 (ipykernel)",
   "language": "python",
   "name": "python3"
  },
  "language_info": {
   "codemirror_mode": {
    "name": "ipython",
    "version": 3
   },
   "file_extension": ".py",
   "mimetype": "text/x-python",
   "name": "python",
   "nbconvert_exporter": "python",
   "pygments_lexer": "ipython3",
   "version": "3.12.1"
  }
 },
 "nbformat": 4,
 "nbformat_minor": 5
}
